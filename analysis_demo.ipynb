{
 "cells": [
  {
   "cell_type": "code",
   "execution_count": 2,
   "metadata": {},
   "outputs": [
    {
     "data": {
      "text/plain": [
       "(2548, 126)"
      ]
     },
     "execution_count": 2,
     "metadata": {},
     "output_type": "execute_result"
    }
   ],
   "source": [
    "import numpy as np\n",
    "import pandas as pd\n",
    "import statsmodels.api as sm\n",
    "from matplotlib.pyplot import subplots \n",
    "import statsmodels.api as sm\n",
    "\n",
    "# Load the data\n",
    "mydata = pd.read_csv('pew_data.csv', encoding='latin-1')\n",
    "mydata.head(9)\n",
    "mydata.shape # (2548, 126) original"
   ]
  },
  {
   "cell_type": "code",
   "execution_count": 6,
   "metadata": {},
   "outputs": [
    {
     "data": {
      "text/plain": [
       "qbeliefp\n",
       "Similar political beliefs to you        1147\n",
       "                                         714\n",
       "A mix of political beliefs               590\n",
       "Different political beliefs from you      81\n",
       "Refused                                   16\n",
       "Name: count, dtype: int64"
      ]
     },
     "execution_count": 6,
     "metadata": {},
     "output_type": "execute_result"
    }
   ],
   "source": [
    "# general participate in politics\n",
    "mydata[\"talkpol_\"] # how often disucuss politics and government in person\n",
    "mydata[\"hobbyism\"] # do you participate in politics\n",
    "\n",
    "mydata[\"concernt\"] # how concern are you about how much social media sites know about your online activities\n",
    "mydata[\"concer_1\"] # how concern how much information about you is available online for other people to see\n",
    "\n",
    "# percevied effectiveness of twitter in politics\n",
    "mydata[\"soceff1_\"] # Getting elected officials to pay attention to issues\n",
    "mydata[\"soceff_1\"] # how effective is twitter change other ppl's mind about political or social issue\n",
    "mydata[\"soceff_2\"] # Raising public awareness about political or social issues\n",
    "\n",
    "# why use twitter\n",
    "mydata[\"whyuse_1\"] # a way to express my opinion\n",
    "mydata[\"whyuse_3\"] # stay informed\n",
    "mydata[\"whyuse_4\"] # do you use twitter for seeing different points of view\n",
    "mydata[\"whyuse2_\"] # Which would you say is the MOST important reason you use Twitter?\n",
    "\n",
    "# twitter political participation\n",
    "mydata[\"frequse_\"] # how often do you use twitter\n",
    "mydata[\"postlurk\"] # do you post or lurk\n",
    "mydata[\"tweeta_3\"] # tweet about political or social issues\n",
    "mydata[\"twpost2m\"] # How much of what you tweet about is related to political or social issues?\n",
    "mydata[\"twsee1_w\"] # how much of what you SEE on Twitter is related to political or social issues?\n",
    "mydata[\"twlikert\"] # how much of what you LIKE OR RETWEET on Twitter is related to political or social issues?\n",
    "mydata[\"whofol_3\"] # how many of the people you follow on twitter are politicians or government figures\n",
    "mydata[\"twitter_\"] # Do you ever get news or news headlines on Twitter?\n",
    "mydata[\"twtrlive\"] # Have you ever used Twitter to keep up with a news event as it is happening?\n",
    "\n",
    "# twitter political beliefs\n",
    "mydata[\"twdemocr\"] # is twitter good for American democracy\n",
    "mydata[\"qbeliefg\"] # how often do you see political beliefs on twitter that are different from your own?\n",
    "mydata[\"qbeliefp\"] # how similar or different from you are the politicians or government figures you follow \n",
    "mydata[\"enctrdis\"] # how often do you encounter political disagreements on twitter?\n",
    "mydata[\"sourcesk\"] # How much do you trust the accuracy of the news and information that you get from Twitter?\n",
    "mydata[\"twnewsne\"] # How often do you see news on Twitter that you would not see elsewhere?\n",
    "\n",
    "# impact of twitter on you\n",
    "mydata[\"twtramou\"] # worn out or not by the amount of news on twitter\n",
    "mydata[\"useimp_1\"] # How politically engaged you feel\n",
    "mydata[\"useimp_2\"] # Your stress levels\n",
    "mydata[\"useimp_3\"] # your understanding of current events\n",
    "\n",
    "# twitter problems\n",
    "mydata[\"misyou_w\"] # How much inaccurate or misleading information do you come across when using Twitter?\n",
    "mydata[\"twprob_2\"] # how much of a problem on Twitter is Harassment and abuse from other users\n",
    "mydata[\"twprob_3\"] # how much of a problem on Twitter is the tone or civility of discussions\n",
    "mydata[\"twprob_4\"] # how much of a problem on Twitter is inaccurate or misleading information\n",
    "\n",
    "# if you have done each of the following activities on TWITTER over the past year.\n",
    "mydata[\"civeng_7\"] # Expressed your support for a political campaign or candidate\n",
    "mydata[\"civeng_8\"] # Replied to a tweet from a politician, political campaign or candidate\n",
    "mydata[\"civen_10\"] # Tweeted or retweeted about a protest, boycott, or similar call to action\n",
    "mydata[\"civen_11\"] # Tweeted or retweeted memes or humorous content related to political or social issues\n",
    "mydata[\"civen_12\"] # Tweeted or retweeted about a political or social issue\n",
    "mydata[\"qbeliefp\"].value_counts()"
   ]
  },
  {
   "cell_type": "code",
   "execution_count": 7,
   "metadata": {},
   "outputs": [
    {
     "data": {
      "text/plain": [
       "f_ideo\n",
       "Moderate             881\n",
       "Liberal              719\n",
       "Very liberal         431\n",
       "Conservative         395\n",
       "Very conservative    103\n",
       "Refused               19\n",
       "Name: count, dtype: int64"
      ]
     },
     "execution_count": 7,
     "metadata": {},
     "output_type": "execute_result"
    }
   ],
   "source": [
    "# demographic variables\n",
    "mydata[\"f_metro\"] # live in metro\n",
    "mydata[\"f_agecat\"] # age\n",
    "mydata[\"f_gender\"] # gender\n",
    "mydata[\"f_educca\"] # education\n",
    "mydata[\"f_racecm\"] # race\n",
    "mydata[\"f_party_\"] # self-reported party identification\n",
    "mydata[\"f_inc_sd\"] # household income\n",
    "mydata[\"f_reg\"] # registered voters or not\n",
    "mydata[\"f_ideo\"].value_counts() # self-reported political ideology"
   ]
  },
  {
   "cell_type": "code",
   "execution_count": 5,
   "metadata": {},
   "outputs": [
    {
     "data": {
      "text/plain": [
       "twdemocr\n",
       "Mostly GOOD for American democracy    746\n",
       "Mostly BAD for American democracy     721\n",
       "Name: count, dtype: int64"
      ]
     },
     "execution_count": 5,
     "metadata": {},
     "output_type": "execute_result"
    }
   ],
   "source": [
    "# check_demo = [\"f_agecat\", \"f_gender\", \"f_educca\", \"f_racecm\", \"f_party_\", \"f_inc_sd\", \"f_reg\", \"f_ideo\"]\n",
    "mydata_cleaned_demo = mydata[~mydata.isin(['Refused', 'Something else']).any(axis=1)]\n",
    "mydata_cleaned_demo[\"f_party_\"].value_counts()\n",
    "mydata_cleaned_demo.shape # (2415, 126)\n",
    "mydata_cleaned_demo = mydata_cleaned_demo[~mydata_cleaned_demo[\"twdemocr\"].isin([\"Refused\", \"Has no impact on American democracy\"])]\n",
    "mydata_cleaned_demo[\"twdemocr\"].value_counts()"
   ]
  },
  {
   "cell_type": "code",
   "execution_count": 6,
   "metadata": {},
   "outputs": [
    {
     "data": {
      "text/plain": [
       "f_reg\n",
       "You are ABSOLUTELY CERTAIN that you are registered to vote at your current address    1329\n",
       "You are NOT registered to vote at your current address                                  40\n",
       "You are PROBABLY registered, but there is a chance your registration has lapsed         31\n",
       "Name: count, dtype: int64"
      ]
     },
     "execution_count": 6,
     "metadata": {},
     "output_type": "execute_result"
    }
   ],
   "source": [
    "mydata_cleaned_demo = mydata[~mydata.isin(['Refused', 'Something else']).any(axis=1)]\n",
    "mydata_cleaned_demo = mydata_cleaned_demo[mydata_cleaned_demo['f_reg'].str.strip() != \"\"]\n",
    "mydata_cleaned_demo[\"f_party_\"].value_counts()\n",
    "mydata_cleaned_demo.shape # (2415, 126)\n",
    "mydata_cleaned_demo = mydata_cleaned_demo[~mydata_cleaned_demo[\"twdemocr\"].isin([\"Refused\", \"Has no impact on American democracy\"])]\n",
    "mydata_cleaned_demo[\"f_reg\"].value_counts()"
   ]
  },
  {
   "cell_type": "code",
   "execution_count": 45,
   "metadata": {},
   "outputs": [],
   "source": [
    "cleaned_data = pd.read_csv('cleaned_data.csv', encoding='latin-1')\n",
    "# Assuming mydata_cleaned_demo is already loaded as a pandas DataFrame\n",
    "#cleaned_data['twdemocr'] = cleaned_data['twdemocr'].apply(lambda x: 1 if x == \"Mostly GOOD for American democracy\" else 0)\n",
    "#cleaned_data['twdemocr'] = cleaned_data['twdemocr'].astype('category')\n",
    "#cleaned_data['f_party_'] = cleaned_data['f_party_'].astype('category')\n",
    "#cleaned_data['f_agecat'] = cleaned_data['f_agecat'].astype('category')\n",
    "#cleaned_data['f_gender'] = cleaned_data['f_gender'].astype('category')\n",
    "#cleaned_data['f_educca'] = cleaned_data['f_educca'].astype('category')\n",
    "#cleaned_data['f_racecm'] = cleaned_data['f_racecm'].astype('category')\n",
    "#cleaned_data['f_inc_sd'] = cleaned_data['f_inc_sd'].astype('category')\n",
    "#cleaned_data['f_reg'] = cleaned_data['f_reg'].astype('category')\n",
    "#cleaned_data['f_ideo'] = cleaned_data['f_ideo'].astype('category')\n",
    "#cleaned_data.head()"
   ]
  },
  {
   "cell_type": "code",
   "execution_count": 57,
   "metadata": {},
   "outputs": [
    {
     "ename": "ValueError",
     "evalue": "Pandas data cast to numpy dtype of object. Check input data with np.asarray(data).",
     "output_type": "error",
     "traceback": [
      "\u001b[0;31m---------------------------------------------------------------------------\u001b[0m",
      "\u001b[0;31mValueError\u001b[0m                                Traceback (most recent call last)",
      "Cell \u001b[0;32mIn[57], line 12\u001b[0m\n\u001b[1;32m      9\u001b[0m X \u001b[38;5;241m=\u001b[39m sm\u001b[38;5;241m.\u001b[39madd_constant(X)\n\u001b[1;32m     11\u001b[0m \u001b[38;5;66;03m# Fit the logistic regression model\u001b[39;00m\n\u001b[0;32m---> 12\u001b[0m model \u001b[38;5;241m=\u001b[39m sm\u001b[38;5;241m.\u001b[39mLogit(y, X)\u001b[38;5;241m.\u001b[39mfit()\n\u001b[1;32m     14\u001b[0m \u001b[38;5;66;03m# Print the summary of the model\u001b[39;00m\n\u001b[1;32m     15\u001b[0m \u001b[38;5;28mprint\u001b[39m(model\u001b[38;5;241m.\u001b[39msummary())\n",
      "File \u001b[0;32m/opt/anaconda3/lib/python3.12/site-packages/statsmodels/discrete/discrete_model.py:475\u001b[0m, in \u001b[0;36mBinaryModel.__init__\u001b[0;34m(self, endog, exog, offset, check_rank, **kwargs)\u001b[0m\n\u001b[1;32m    472\u001b[0m \u001b[38;5;28;01mdef\u001b[39;00m \u001b[38;5;21m__init__\u001b[39m(\u001b[38;5;28mself\u001b[39m, endog, exog, offset\u001b[38;5;241m=\u001b[39m\u001b[38;5;28;01mNone\u001b[39;00m, check_rank\u001b[38;5;241m=\u001b[39m\u001b[38;5;28;01mTrue\u001b[39;00m, \u001b[38;5;241m*\u001b[39m\u001b[38;5;241m*\u001b[39mkwargs):\n\u001b[1;32m    473\u001b[0m     \u001b[38;5;66;03m# unconditional check, requires no extra kwargs added by subclasses\u001b[39;00m\n\u001b[1;32m    474\u001b[0m     \u001b[38;5;28mself\u001b[39m\u001b[38;5;241m.\u001b[39m_check_kwargs(kwargs)\n\u001b[0;32m--> 475\u001b[0m     \u001b[38;5;28msuper\u001b[39m()\u001b[38;5;241m.\u001b[39m\u001b[38;5;21m__init__\u001b[39m(endog, exog, offset\u001b[38;5;241m=\u001b[39moffset, check_rank\u001b[38;5;241m=\u001b[39mcheck_rank,\n\u001b[1;32m    476\u001b[0m                      \u001b[38;5;241m*\u001b[39m\u001b[38;5;241m*\u001b[39mkwargs)\n\u001b[1;32m    477\u001b[0m     \u001b[38;5;28;01mif\u001b[39;00m \u001b[38;5;129;01mnot\u001b[39;00m \u001b[38;5;28missubclass\u001b[39m(\u001b[38;5;28mself\u001b[39m\u001b[38;5;241m.\u001b[39m\u001b[38;5;18m__class__\u001b[39m, MultinomialModel):\n\u001b[1;32m    478\u001b[0m         \u001b[38;5;28;01mif\u001b[39;00m \u001b[38;5;129;01mnot\u001b[39;00m np\u001b[38;5;241m.\u001b[39mall((\u001b[38;5;28mself\u001b[39m\u001b[38;5;241m.\u001b[39mendog \u001b[38;5;241m>\u001b[39m\u001b[38;5;241m=\u001b[39m \u001b[38;5;241m0\u001b[39m) \u001b[38;5;241m&\u001b[39m (\u001b[38;5;28mself\u001b[39m\u001b[38;5;241m.\u001b[39mendog \u001b[38;5;241m<\u001b[39m\u001b[38;5;241m=\u001b[39m \u001b[38;5;241m1\u001b[39m)):\n",
      "File \u001b[0;32m/opt/anaconda3/lib/python3.12/site-packages/statsmodels/discrete/discrete_model.py:185\u001b[0m, in \u001b[0;36mDiscreteModel.__init__\u001b[0;34m(self, endog, exog, check_rank, **kwargs)\u001b[0m\n\u001b[1;32m    183\u001b[0m \u001b[38;5;28;01mdef\u001b[39;00m \u001b[38;5;21m__init__\u001b[39m(\u001b[38;5;28mself\u001b[39m, endog, exog, check_rank\u001b[38;5;241m=\u001b[39m\u001b[38;5;28;01mTrue\u001b[39;00m, \u001b[38;5;241m*\u001b[39m\u001b[38;5;241m*\u001b[39mkwargs):\n\u001b[1;32m    184\u001b[0m     \u001b[38;5;28mself\u001b[39m\u001b[38;5;241m.\u001b[39m_check_rank \u001b[38;5;241m=\u001b[39m check_rank\n\u001b[0;32m--> 185\u001b[0m     \u001b[38;5;28msuper\u001b[39m()\u001b[38;5;241m.\u001b[39m\u001b[38;5;21m__init__\u001b[39m(endog, exog, \u001b[38;5;241m*\u001b[39m\u001b[38;5;241m*\u001b[39mkwargs)\n\u001b[1;32m    186\u001b[0m     \u001b[38;5;28mself\u001b[39m\u001b[38;5;241m.\u001b[39mraise_on_perfect_prediction \u001b[38;5;241m=\u001b[39m \u001b[38;5;28;01mFalse\u001b[39;00m  \u001b[38;5;66;03m# keep for backwards compat\u001b[39;00m\n\u001b[1;32m    187\u001b[0m     \u001b[38;5;28mself\u001b[39m\u001b[38;5;241m.\u001b[39mk_extra \u001b[38;5;241m=\u001b[39m \u001b[38;5;241m0\u001b[39m\n",
      "File \u001b[0;32m/opt/anaconda3/lib/python3.12/site-packages/statsmodels/base/model.py:270\u001b[0m, in \u001b[0;36mLikelihoodModel.__init__\u001b[0;34m(self, endog, exog, **kwargs)\u001b[0m\n\u001b[1;32m    269\u001b[0m \u001b[38;5;28;01mdef\u001b[39;00m \u001b[38;5;21m__init__\u001b[39m(\u001b[38;5;28mself\u001b[39m, endog, exog\u001b[38;5;241m=\u001b[39m\u001b[38;5;28;01mNone\u001b[39;00m, \u001b[38;5;241m*\u001b[39m\u001b[38;5;241m*\u001b[39mkwargs):\n\u001b[0;32m--> 270\u001b[0m     \u001b[38;5;28msuper\u001b[39m()\u001b[38;5;241m.\u001b[39m\u001b[38;5;21m__init__\u001b[39m(endog, exog, \u001b[38;5;241m*\u001b[39m\u001b[38;5;241m*\u001b[39mkwargs)\n\u001b[1;32m    271\u001b[0m     \u001b[38;5;28mself\u001b[39m\u001b[38;5;241m.\u001b[39minitialize()\n",
      "File \u001b[0;32m/opt/anaconda3/lib/python3.12/site-packages/statsmodels/base/model.py:95\u001b[0m, in \u001b[0;36mModel.__init__\u001b[0;34m(self, endog, exog, **kwargs)\u001b[0m\n\u001b[1;32m     93\u001b[0m missing \u001b[38;5;241m=\u001b[39m kwargs\u001b[38;5;241m.\u001b[39mpop(\u001b[38;5;124m'\u001b[39m\u001b[38;5;124mmissing\u001b[39m\u001b[38;5;124m'\u001b[39m, \u001b[38;5;124m'\u001b[39m\u001b[38;5;124mnone\u001b[39m\u001b[38;5;124m'\u001b[39m)\n\u001b[1;32m     94\u001b[0m hasconst \u001b[38;5;241m=\u001b[39m kwargs\u001b[38;5;241m.\u001b[39mpop(\u001b[38;5;124m'\u001b[39m\u001b[38;5;124mhasconst\u001b[39m\u001b[38;5;124m'\u001b[39m, \u001b[38;5;28;01mNone\u001b[39;00m)\n\u001b[0;32m---> 95\u001b[0m \u001b[38;5;28mself\u001b[39m\u001b[38;5;241m.\u001b[39mdata \u001b[38;5;241m=\u001b[39m \u001b[38;5;28mself\u001b[39m\u001b[38;5;241m.\u001b[39m_handle_data(endog, exog, missing, hasconst,\n\u001b[1;32m     96\u001b[0m                               \u001b[38;5;241m*\u001b[39m\u001b[38;5;241m*\u001b[39mkwargs)\n\u001b[1;32m     97\u001b[0m \u001b[38;5;28mself\u001b[39m\u001b[38;5;241m.\u001b[39mk_constant \u001b[38;5;241m=\u001b[39m \u001b[38;5;28mself\u001b[39m\u001b[38;5;241m.\u001b[39mdata\u001b[38;5;241m.\u001b[39mk_constant\n\u001b[1;32m     98\u001b[0m \u001b[38;5;28mself\u001b[39m\u001b[38;5;241m.\u001b[39mexog \u001b[38;5;241m=\u001b[39m \u001b[38;5;28mself\u001b[39m\u001b[38;5;241m.\u001b[39mdata\u001b[38;5;241m.\u001b[39mexog\n",
      "File \u001b[0;32m/opt/anaconda3/lib/python3.12/site-packages/statsmodels/base/model.py:135\u001b[0m, in \u001b[0;36mModel._handle_data\u001b[0;34m(self, endog, exog, missing, hasconst, **kwargs)\u001b[0m\n\u001b[1;32m    134\u001b[0m \u001b[38;5;28;01mdef\u001b[39;00m \u001b[38;5;21m_handle_data\u001b[39m(\u001b[38;5;28mself\u001b[39m, endog, exog, missing, hasconst, \u001b[38;5;241m*\u001b[39m\u001b[38;5;241m*\u001b[39mkwargs):\n\u001b[0;32m--> 135\u001b[0m     data \u001b[38;5;241m=\u001b[39m handle_data(endog, exog, missing, hasconst, \u001b[38;5;241m*\u001b[39m\u001b[38;5;241m*\u001b[39mkwargs)\n\u001b[1;32m    136\u001b[0m     \u001b[38;5;66;03m# kwargs arrays could have changed, easier to just attach here\u001b[39;00m\n\u001b[1;32m    137\u001b[0m     \u001b[38;5;28;01mfor\u001b[39;00m key \u001b[38;5;129;01min\u001b[39;00m kwargs:\n",
      "File \u001b[0;32m/opt/anaconda3/lib/python3.12/site-packages/statsmodels/base/data.py:675\u001b[0m, in \u001b[0;36mhandle_data\u001b[0;34m(endog, exog, missing, hasconst, **kwargs)\u001b[0m\n\u001b[1;32m    672\u001b[0m     exog \u001b[38;5;241m=\u001b[39m np\u001b[38;5;241m.\u001b[39masarray(exog)\n\u001b[1;32m    674\u001b[0m klass \u001b[38;5;241m=\u001b[39m handle_data_class_factory(endog, exog)\n\u001b[0;32m--> 675\u001b[0m \u001b[38;5;28;01mreturn\u001b[39;00m klass(endog, exog\u001b[38;5;241m=\u001b[39mexog, missing\u001b[38;5;241m=\u001b[39mmissing, hasconst\u001b[38;5;241m=\u001b[39mhasconst,\n\u001b[1;32m    676\u001b[0m              \u001b[38;5;241m*\u001b[39m\u001b[38;5;241m*\u001b[39mkwargs)\n",
      "File \u001b[0;32m/opt/anaconda3/lib/python3.12/site-packages/statsmodels/base/data.py:84\u001b[0m, in \u001b[0;36mModelData.__init__\u001b[0;34m(self, endog, exog, missing, hasconst, **kwargs)\u001b[0m\n\u001b[1;32m     82\u001b[0m     \u001b[38;5;28mself\u001b[39m\u001b[38;5;241m.\u001b[39morig_endog \u001b[38;5;241m=\u001b[39m endog\n\u001b[1;32m     83\u001b[0m     \u001b[38;5;28mself\u001b[39m\u001b[38;5;241m.\u001b[39morig_exog \u001b[38;5;241m=\u001b[39m exog\n\u001b[0;32m---> 84\u001b[0m     \u001b[38;5;28mself\u001b[39m\u001b[38;5;241m.\u001b[39mendog, \u001b[38;5;28mself\u001b[39m\u001b[38;5;241m.\u001b[39mexog \u001b[38;5;241m=\u001b[39m \u001b[38;5;28mself\u001b[39m\u001b[38;5;241m.\u001b[39m_convert_endog_exog(endog, exog)\n\u001b[1;32m     86\u001b[0m \u001b[38;5;28mself\u001b[39m\u001b[38;5;241m.\u001b[39mconst_idx \u001b[38;5;241m=\u001b[39m \u001b[38;5;28;01mNone\u001b[39;00m\n\u001b[1;32m     87\u001b[0m \u001b[38;5;28mself\u001b[39m\u001b[38;5;241m.\u001b[39mk_constant \u001b[38;5;241m=\u001b[39m \u001b[38;5;241m0\u001b[39m\n",
      "File \u001b[0;32m/opt/anaconda3/lib/python3.12/site-packages/statsmodels/base/data.py:509\u001b[0m, in \u001b[0;36mPandasData._convert_endog_exog\u001b[0;34m(self, endog, exog)\u001b[0m\n\u001b[1;32m    507\u001b[0m exog \u001b[38;5;241m=\u001b[39m exog \u001b[38;5;28;01mif\u001b[39;00m exog \u001b[38;5;129;01mis\u001b[39;00m \u001b[38;5;28;01mNone\u001b[39;00m \u001b[38;5;28;01melse\u001b[39;00m np\u001b[38;5;241m.\u001b[39masarray(exog)\n\u001b[1;32m    508\u001b[0m \u001b[38;5;28;01mif\u001b[39;00m endog\u001b[38;5;241m.\u001b[39mdtype \u001b[38;5;241m==\u001b[39m \u001b[38;5;28mobject\u001b[39m \u001b[38;5;129;01mor\u001b[39;00m exog \u001b[38;5;129;01mis\u001b[39;00m \u001b[38;5;129;01mnot\u001b[39;00m \u001b[38;5;28;01mNone\u001b[39;00m \u001b[38;5;129;01mand\u001b[39;00m exog\u001b[38;5;241m.\u001b[39mdtype \u001b[38;5;241m==\u001b[39m \u001b[38;5;28mobject\u001b[39m:\n\u001b[0;32m--> 509\u001b[0m     \u001b[38;5;28;01mraise\u001b[39;00m \u001b[38;5;167;01mValueError\u001b[39;00m(\u001b[38;5;124m\"\u001b[39m\u001b[38;5;124mPandas data cast to numpy dtype of object. \u001b[39m\u001b[38;5;124m\"\u001b[39m\n\u001b[1;32m    510\u001b[0m                      \u001b[38;5;124m\"\u001b[39m\u001b[38;5;124mCheck input data with np.asarray(data).\u001b[39m\u001b[38;5;124m\"\u001b[39m)\n\u001b[1;32m    511\u001b[0m \u001b[38;5;28;01mreturn\u001b[39;00m \u001b[38;5;28msuper\u001b[39m()\u001b[38;5;241m.\u001b[39m_convert_endog_exog(endog, exog)\n",
      "\u001b[0;31mValueError\u001b[0m: Pandas data cast to numpy dtype of object. Check input data with np.asarray(data)."
     ]
    }
   ],
   "source": [
    "# Assuming mydata_cleaned_demo is already loaded as a pandas DataFrame\n",
    "# Select relevant columns\n",
    "X = cleaned_data[['f_party_', 'f_agecat', 'f_gender', 'f_educca', 'f_racecm', 'f_ideo']]\n",
    "\n",
    "# Define the dependent variable and independent variables\n",
    "y = cleaned_data['twdemocr']\n",
    "# Add a constant to the model (intercept)\n",
    "X = sm.add_constant(X)\n",
    "\n",
    "# Fit the logistic regression model\n",
    "model = sm.Logit(y, X).fit()\n",
    "\n",
    "# Print the summary of the model\n",
    "print(model.summary())"
   ]
  }
 ],
 "metadata": {
  "kernelspec": {
   "display_name": "base",
   "language": "python",
   "name": "python3"
  },
  "language_info": {
   "codemirror_mode": {
    "name": "ipython",
    "version": 3
   },
   "file_extension": ".py",
   "mimetype": "text/x-python",
   "name": "python",
   "nbconvert_exporter": "python",
   "pygments_lexer": "ipython3",
   "version": "3.12.2"
  }
 },
 "nbformat": 4,
 "nbformat_minor": 2
}
